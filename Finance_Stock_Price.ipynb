{
 "cells": [
  {
   "cell_type": "markdown",
   "metadata": {},
   "source": [
    "# Predict Stock Price - yahoo finance data"
   ]
  },
  {
   "cell_type": "code",
   "execution_count": 2,
   "metadata": {},
   "outputs": [
    {
     "name": "stderr",
     "output_type": "stream",
     "text": [
      "UsageError: Line magic function `%` not found.\n"
     ]
    }
   ],
   "source": [
    "import pandas as pd\n",
    "import numpy as np\n",
    "import matplotlib.pyplot as plt\n",
    "import seaborn as sns\n",
    "% matplotlib inline\n",
    "from sklearn.linear_model import LinearRegression\n",
    "from sklearn import preprocessing\n",
    "from sklearn.model_selection import train_test_split\n"
   ]
  },
  {
   "cell_type": "markdown",
   "metadata": {},
   "source": [
    "#### Load Data"
   ]
  },
  {
   "cell_type": "code",
   "execution_count": 3,
   "metadata": {},
   "outputs": [],
   "source": [
    "# Read in files and print the information\n",
    "#train_df = pd.read_csv('AAPL.csv')\n",
    "import datetime\n",
    "import pandas_datareader.data as web\n",
    "from pandas import Series, DataFrame\n",
    "\n",
    "\n",
    "start = datetime.datetime(2010, 1, 1)\n",
    "end = datetime.datetime(2019, 9, 5)\n",
    "\n",
    "train_df = web.DataReader(\"AAPL\", 'yahoo', start, end)"
   ]
  },
  {
   "cell_type": "markdown",
   "metadata": {},
   "source": [
    "#### Explore Data"
   ]
  },
  {
   "cell_type": "code",
   "execution_count": 4,
   "metadata": {},
   "outputs": [
    {
     "data": {
      "text/html": [
       "<div>\n",
       "<style scoped>\n",
       "    .dataframe tbody tr th:only-of-type {\n",
       "        vertical-align: middle;\n",
       "    }\n",
       "\n",
       "    .dataframe tbody tr th {\n",
       "        vertical-align: top;\n",
       "    }\n",
       "\n",
       "    .dataframe thead th {\n",
       "        text-align: right;\n",
       "    }\n",
       "</style>\n",
       "<table border=\"1\" class=\"dataframe\">\n",
       "  <thead>\n",
       "    <tr style=\"text-align: right;\">\n",
       "      <th></th>\n",
       "      <th>High</th>\n",
       "      <th>Low</th>\n",
       "      <th>Open</th>\n",
       "      <th>Close</th>\n",
       "      <th>Volume</th>\n",
       "      <th>Adj Close</th>\n",
       "    </tr>\n",
       "    <tr>\n",
       "      <th>Date</th>\n",
       "      <th></th>\n",
       "      <th></th>\n",
       "      <th></th>\n",
       "      <th></th>\n",
       "      <th></th>\n",
       "      <th></th>\n",
       "    </tr>\n",
       "  </thead>\n",
       "  <tbody>\n",
       "    <tr>\n",
       "      <th>2019-08-23</th>\n",
       "      <td>212.050003</td>\n",
       "      <td>201.000000</td>\n",
       "      <td>209.429993</td>\n",
       "      <td>202.639999</td>\n",
       "      <td>46818000.0</td>\n",
       "      <td>202.639999</td>\n",
       "    </tr>\n",
       "    <tr>\n",
       "      <th>2019-08-26</th>\n",
       "      <td>207.190002</td>\n",
       "      <td>205.059998</td>\n",
       "      <td>205.860001</td>\n",
       "      <td>206.490005</td>\n",
       "      <td>26043600.0</td>\n",
       "      <td>206.490005</td>\n",
       "    </tr>\n",
       "    <tr>\n",
       "      <th>2019-08-27</th>\n",
       "      <td>208.550003</td>\n",
       "      <td>203.529999</td>\n",
       "      <td>207.860001</td>\n",
       "      <td>204.160004</td>\n",
       "      <td>25873300.0</td>\n",
       "      <td>204.160004</td>\n",
       "    </tr>\n",
       "    <tr>\n",
       "      <th>2019-08-28</th>\n",
       "      <td>205.720001</td>\n",
       "      <td>203.320007</td>\n",
       "      <td>204.100006</td>\n",
       "      <td>205.529999</td>\n",
       "      <td>15938800.0</td>\n",
       "      <td>205.529999</td>\n",
       "    </tr>\n",
       "    <tr>\n",
       "      <th>2019-08-29</th>\n",
       "      <td>209.320007</td>\n",
       "      <td>206.660004</td>\n",
       "      <td>208.500000</td>\n",
       "      <td>209.009995</td>\n",
       "      <td>20990500.0</td>\n",
       "      <td>209.009995</td>\n",
       "    </tr>\n",
       "    <tr>\n",
       "      <th>2019-08-30</th>\n",
       "      <td>210.449997</td>\n",
       "      <td>207.199997</td>\n",
       "      <td>210.160004</td>\n",
       "      <td>208.740005</td>\n",
       "      <td>21143400.0</td>\n",
       "      <td>208.740005</td>\n",
       "    </tr>\n",
       "    <tr>\n",
       "      <th>2019-09-03</th>\n",
       "      <td>206.979996</td>\n",
       "      <td>204.220001</td>\n",
       "      <td>206.429993</td>\n",
       "      <td>205.699997</td>\n",
       "      <td>20023000.0</td>\n",
       "      <td>205.699997</td>\n",
       "    </tr>\n",
       "    <tr>\n",
       "      <th>2019-09-04</th>\n",
       "      <td>209.479996</td>\n",
       "      <td>207.320007</td>\n",
       "      <td>208.389999</td>\n",
       "      <td>209.190002</td>\n",
       "      <td>19188100.0</td>\n",
       "      <td>209.190002</td>\n",
       "    </tr>\n",
       "    <tr>\n",
       "      <th>2019-09-05</th>\n",
       "      <td>213.970001</td>\n",
       "      <td>211.509995</td>\n",
       "      <td>212.000000</td>\n",
       "      <td>213.279999</td>\n",
       "      <td>23913700.0</td>\n",
       "      <td>213.279999</td>\n",
       "    </tr>\n",
       "    <tr>\n",
       "      <th>2019-09-06</th>\n",
       "      <td>214.419998</td>\n",
       "      <td>212.509995</td>\n",
       "      <td>214.050003</td>\n",
       "      <td>213.259995</td>\n",
       "      <td>19350800.0</td>\n",
       "      <td>213.259995</td>\n",
       "    </tr>\n",
       "  </tbody>\n",
       "</table>\n",
       "</div>"
      ],
      "text/plain": [
       "                  High         Low        Open       Close      Volume  \\\n",
       "Date                                                                     \n",
       "2019-08-23  212.050003  201.000000  209.429993  202.639999  46818000.0   \n",
       "2019-08-26  207.190002  205.059998  205.860001  206.490005  26043600.0   \n",
       "2019-08-27  208.550003  203.529999  207.860001  204.160004  25873300.0   \n",
       "2019-08-28  205.720001  203.320007  204.100006  205.529999  15938800.0   \n",
       "2019-08-29  209.320007  206.660004  208.500000  209.009995  20990500.0   \n",
       "2019-08-30  210.449997  207.199997  210.160004  208.740005  21143400.0   \n",
       "2019-09-03  206.979996  204.220001  206.429993  205.699997  20023000.0   \n",
       "2019-09-04  209.479996  207.320007  208.389999  209.190002  19188100.0   \n",
       "2019-09-05  213.970001  211.509995  212.000000  213.279999  23913700.0   \n",
       "2019-09-06  214.419998  212.509995  214.050003  213.259995  19350800.0   \n",
       "\n",
       "             Adj Close  \n",
       "Date                    \n",
       "2019-08-23  202.639999  \n",
       "2019-08-26  206.490005  \n",
       "2019-08-27  204.160004  \n",
       "2019-08-28  205.529999  \n",
       "2019-08-29  209.009995  \n",
       "2019-08-30  208.740005  \n",
       "2019-09-03  205.699997  \n",
       "2019-09-04  209.190002  \n",
       "2019-09-05  213.279999  \n",
       "2019-09-06  213.259995  "
      ]
     },
     "execution_count": 4,
     "metadata": {},
     "output_type": "execute_result"
    }
   ],
   "source": [
    "train_df.tail(10)"
   ]
  },
  {
   "cell_type": "code",
   "execution_count": 5,
   "metadata": {},
   "outputs": [
    {
     "data": {
      "text/html": [
       "<div>\n",
       "<style scoped>\n",
       "    .dataframe tbody tr th:only-of-type {\n",
       "        vertical-align: middle;\n",
       "    }\n",
       "\n",
       "    .dataframe tbody tr th {\n",
       "        vertical-align: top;\n",
       "    }\n",
       "\n",
       "    .dataframe thead th {\n",
       "        text-align: right;\n",
       "    }\n",
       "</style>\n",
       "<table border=\"1\" class=\"dataframe\">\n",
       "  <thead>\n",
       "    <tr style=\"text-align: right;\">\n",
       "      <th></th>\n",
       "      <th>High</th>\n",
       "      <th>Low</th>\n",
       "      <th>Open</th>\n",
       "      <th>Close</th>\n",
       "      <th>Volume</th>\n",
       "      <th>Adj Close</th>\n",
       "    </tr>\n",
       "  </thead>\n",
       "  <tbody>\n",
       "    <tr>\n",
       "      <th>count</th>\n",
       "      <td>2436.000000</td>\n",
       "      <td>2436.000000</td>\n",
       "      <td>2436.000000</td>\n",
       "      <td>2436.000000</td>\n",
       "      <td>2.436000e+03</td>\n",
       "      <td>2436.000000</td>\n",
       "    </tr>\n",
       "    <tr>\n",
       "      <th>mean</th>\n",
       "      <td>106.702729</td>\n",
       "      <td>104.783091</td>\n",
       "      <td>105.759103</td>\n",
       "      <td>105.764059</td>\n",
       "      <td>7.649025e+07</td>\n",
       "      <td>99.584098</td>\n",
       "    </tr>\n",
       "    <tr>\n",
       "      <th>std</th>\n",
       "      <td>51.235204</td>\n",
       "      <td>50.377670</td>\n",
       "      <td>50.778881</td>\n",
       "      <td>50.810023</td>\n",
       "      <td>5.908548e+07</td>\n",
       "      <td>52.058730</td>\n",
       "    </tr>\n",
       "    <tr>\n",
       "      <th>min</th>\n",
       "      <td>28.000000</td>\n",
       "      <td>27.178572</td>\n",
       "      <td>27.481428</td>\n",
       "      <td>27.435715</td>\n",
       "      <td>1.136200e+07</td>\n",
       "      <td>23.943514</td>\n",
       "    </tr>\n",
       "    <tr>\n",
       "      <th>25%</th>\n",
       "      <td>64.603571</td>\n",
       "      <td>63.158930</td>\n",
       "      <td>63.703929</td>\n",
       "      <td>63.703572</td>\n",
       "      <td>3.225842e+07</td>\n",
       "      <td>56.514045</td>\n",
       "    </tr>\n",
       "    <tr>\n",
       "      <th>50%</th>\n",
       "      <td>98.250000</td>\n",
       "      <td>96.605000</td>\n",
       "      <td>97.400002</td>\n",
       "      <td>97.404999</td>\n",
       "      <td>5.745310e+07</td>\n",
       "      <td>90.753090</td>\n",
       "    </tr>\n",
       "    <tr>\n",
       "      <th>75%</th>\n",
       "      <td>143.027500</td>\n",
       "      <td>141.122501</td>\n",
       "      <td>142.192501</td>\n",
       "      <td>142.210003</td>\n",
       "      <td>1.042986e+08</td>\n",
       "      <td>136.945278</td>\n",
       "    </tr>\n",
       "    <tr>\n",
       "      <th>max</th>\n",
       "      <td>233.470001</td>\n",
       "      <td>229.779999</td>\n",
       "      <td>230.779999</td>\n",
       "      <td>232.070007</td>\n",
       "      <td>4.702495e+08</td>\n",
       "      <td>228.523819</td>\n",
       "    </tr>\n",
       "  </tbody>\n",
       "</table>\n",
       "</div>"
      ],
      "text/plain": [
       "              High          Low         Open        Close        Volume  \\\n",
       "count  2436.000000  2436.000000  2436.000000  2436.000000  2.436000e+03   \n",
       "mean    106.702729   104.783091   105.759103   105.764059  7.649025e+07   \n",
       "std      51.235204    50.377670    50.778881    50.810023  5.908548e+07   \n",
       "min      28.000000    27.178572    27.481428    27.435715  1.136200e+07   \n",
       "25%      64.603571    63.158930    63.703929    63.703572  3.225842e+07   \n",
       "50%      98.250000    96.605000    97.400002    97.404999  5.745310e+07   \n",
       "75%     143.027500   141.122501   142.192501   142.210003  1.042986e+08   \n",
       "max     233.470001   229.779999   230.779999   232.070007  4.702495e+08   \n",
       "\n",
       "         Adj Close  \n",
       "count  2436.000000  \n",
       "mean     99.584098  \n",
       "std      52.058730  \n",
       "min      23.943514  \n",
       "25%      56.514045  \n",
       "50%      90.753090  \n",
       "75%     136.945278  \n",
       "max     228.523819  "
      ]
     },
     "execution_count": 5,
     "metadata": {},
     "output_type": "execute_result"
    }
   ],
   "source": [
    "train_df.describe()"
   ]
  },
  {
   "cell_type": "code",
   "execution_count": 6,
   "metadata": {},
   "outputs": [
    {
     "name": "stdout",
     "output_type": "stream",
     "text": [
      "<class 'pandas.core.frame.DataFrame'>\n",
      "DatetimeIndex: 2436 entries, 2010-01-04 to 2019-09-06\n",
      "Data columns (total 6 columns):\n",
      "High         2436 non-null float64\n",
      "Low          2436 non-null float64\n",
      "Open         2436 non-null float64\n",
      "Close        2436 non-null float64\n",
      "Volume       2436 non-null float64\n",
      "Adj Close    2436 non-null float64\n",
      "dtypes: float64(6)\n",
      "memory usage: 133.2 KB\n"
     ]
    }
   ],
   "source": [
    "train_df.info()"
   ]
  },
  {
   "cell_type": "markdown",
   "metadata": {},
   "source": [
    "#### Check for Any Duplicate or NA values."
   ]
  },
  {
   "cell_type": "code",
   "execution_count": 7,
   "metadata": {},
   "outputs": [
    {
     "data": {
      "text/plain": [
       "0"
      ]
     },
     "execution_count": 7,
     "metadata": {},
     "output_type": "execute_result"
    }
   ],
   "source": [
    "#Duplicate\n",
    "train_df.duplicated().sum()"
   ]
  },
  {
   "cell_type": "code",
   "execution_count": 8,
   "metadata": {},
   "outputs": [
    {
     "data": {
      "text/plain": [
       "High         0\n",
       "Low          0\n",
       "Open         0\n",
       "Close        0\n",
       "Volume       0\n",
       "Adj Close    0\n",
       "dtype: int64"
      ]
     },
     "execution_count": 8,
     "metadata": {},
     "output_type": "execute_result"
    }
   ],
   "source": [
    "#train_df.isnull().sum()\n",
    "train_df.isna().sum()"
   ]
  },
  {
   "cell_type": "markdown",
   "metadata": {},
   "source": [
    "#### EDA"
   ]
  },
  {
   "cell_type": "code",
   "execution_count": 9,
   "metadata": {},
   "outputs": [
    {
     "name": "stderr",
     "output_type": "stream",
     "text": [
      "/home/kartik/anaconda3/lib/python3.7/site-packages/pandas/plotting/_converter.py:129: FutureWarning: Using an implicitly registered datetime converter for a matplotlib plotting method. The converter was registered by pandas on import. Future versions of pandas will require you to explicitly register matplotlib converters.\n",
      "\n",
      "To register the converters:\n",
      "\t>>> from pandas.plotting import register_matplotlib_converters\n",
      "\t>>> register_matplotlib_converters()\n",
      "  warnings.warn(msg, FutureWarning)\n"
     ]
    },
    {
     "data": {
      "text/plain": [
       "<matplotlib.legend.Legend at 0x7fe0cc6bde10>"
      ]
     },
     "execution_count": 9,
     "metadata": {},
     "output_type": "execute_result"
    },
    {
     "data": {
      "image/png": "[encoded data removed]",
      "text/plain": [
       "<Figure size 1152x576 with 1 Axes>"
      ]
     },
     "metadata": {
      "needs_background": "light"
     },
     "output_type": "display_data"
    }
   ],
   "source": [
    "#setting index as date\n",
    "#train_df['Date'] = pd.to_datetime(train_df.Date,format='%Y-%m-%d')\n",
    "#train_df.index = train_df['Date']\n",
    "\n",
    "#plot\n",
    "plt.figure(figsize=(16,8))\n",
    "plt.plot(train_df['Adj Close'], label='Close Price')\n",
    "plt.xlabel('Date')  \n",
    "plt.ylabel('Price')  \n",
    "plt.title('Stock Price history')\n",
    "plt.legend()"
   ]
  },
  {
   "cell_type": "code",
   "execution_count": 10,
   "metadata": {},
   "outputs": [
    {
     "data": {
      "image/png": "[encoded data removed]",
      "text/plain": [
       "<Figure size 1008x432 with 2 Axes>"
      ]
     },
     "metadata": {
      "needs_background": "light"
     },
     "output_type": "display_data"
    }
   ],
   "source": [
    "## Plot to se Outliers, bad value and observe distribution for Adj Close\n",
    "plt.figure(figsize=(14,6))\n",
    "plt.subplot(1,2,1)\n",
    "sns.boxplot(train_df['Adj Close'])\n",
    "plt.subplot(1,2,2)\n",
    "sns.distplot(train_df['Adj Close'], bins = 20)\n",
    "plt.show()"
   ]
  },
  {
   "cell_type": "code",
   "execution_count": 11,
   "metadata": {},
   "outputs": [
    {
     "name": "stdout",
     "output_type": "stream",
     "text": [
      "                  High         Low        Open       Close      Volume  \\\n",
      "Date                                                                     \n",
      "2019-08-30  210.449997  207.199997  210.160004  208.740005  21143400.0   \n",
      "2019-09-03  206.979996  204.220001  206.429993  205.699997  20023000.0   \n",
      "2019-09-04  209.479996  207.320007  208.389999  209.190002  19188100.0   \n",
      "2019-09-05  213.970001  211.509995  212.000000  213.279999  23913700.0   \n",
      "2019-09-06  214.419998  212.509995  214.050003  213.259995  19350800.0   \n",
      "\n",
      "             Adj Close  Prediction  \n",
      "Date                                \n",
      "2019-08-30  208.740005         NaN  \n",
      "2019-09-03  205.699997         NaN  \n",
      "2019-09-04  209.190002         NaN  \n",
      "2019-09-05  213.279999         NaN  \n",
      "2019-09-06  213.259995         NaN  \n",
      "(2436, 7)\n"
     ]
    }
   ],
   "source": [
    "# A variable for predicting 'n' days out into the future\n",
    "num = 20 #'n=20' days\n",
    "#Create another column Prediction shifted 'n' units up\n",
    "train_df['Prediction'] = train_df[['Adj Close']].shift(-num)\n",
    "#print the new data set\n",
    "print(train_df.tail())\n",
    "print(train_df.shape)"
   ]
  },
  {
   "cell_type": "markdown",
   "metadata": {},
   "source": [
    "#### Peocess Data and Create Independent and Dependent Dataset"
   ]
  },
  {
   "cell_type": "code",
   "execution_count": 12,
   "metadata": {},
   "outputs": [],
   "source": [
    "from sklearn.linear_model import LinearRegression\n",
    "from sklearn import preprocessing\n",
    "from sklearn.model_selection import train_test_split"
   ]
  },
  {
   "cell_type": "code",
   "execution_count": 13,
   "metadata": {},
   "outputs": [],
   "source": [
    "## Create Independent Dataset (X) by remvoving Prediction column.\n",
    "# Convert the dataframe to a numpy array\n",
    "X = np.array(train_df.drop(['Prediction'],1))\n",
    "\n",
    "# Scale Dataset (X) to Normalize Data\n",
    "\n",
    "X = preprocessing.scale(X)\n"
   ]
  },
  {
   "cell_type": "markdown",
   "metadata": {},
   "source": [
    "#### features_df and target_var"
   ]
  },
  {
   "cell_type": "code",
   "execution_count": 14,
   "metadata": {},
   "outputs": [
    {
     "name": "stdout",
     "output_type": "stream",
     "text": [
      "[[-1.48482846 -1.47800357 -1.48259583 -1.48015363  0.7946417  -1.4006822 ]\n",
      " [-1.48178864 -1.475536   -1.47930357 -1.47911314  1.25244202 -1.3997958 ]\n",
      " [-1.4827926  -1.48262674 -1.47992264 -1.48870264  1.04192071 -1.40796392]\n",
      " ...\n",
      " [ 1.78365716  1.77211905  1.78360537  1.79599749 -0.68838905  1.85732699]\n",
      " [ 1.81274451  1.76775142  1.76587795  1.83615516 -0.73003896  1.89637308]\n",
      " [ 1.89024623  1.87833882  1.86022774  1.92257316 -0.83761538  1.98039895]]\n"
     ]
    }
   ],
   "source": [
    "# Create Independent Data set (features_df) Remove last 'num = 20' rows.\n",
    "features_df = X[:-num]\n",
    "print(features_df)"
   ]
  },
  {
   "cell_type": "code",
   "execution_count": 15,
   "metadata": {},
   "outputs": [
    {
     "name": "stdout",
     "output_type": "stream",
     "text": [
      "[ 24.41851616  24.8386631   23.94351387 ... 209.19000244 213.27999878\n",
      " 213.25999451]\n"
     ]
    }
   ],
   "source": [
    "### Create the dependent data set (target_var)  #####\n",
    "# Convert the dataframe to a numpy array \n",
    "target_var = np.array(train_df['Prediction'])\n",
    "# Get all of the y values except the last '30' rows\n",
    "target_var = target_var[:-num]\n",
    "print(target_var)"
   ]
  },
  {
   "cell_type": "code",
   "execution_count": 16,
   "metadata": {},
   "outputs": [],
   "source": [
    "# Split the data into 80% training and 20% testing\n",
    "train_X, test_X, train_y, test_y = train_test_split(features_df, target_var, test_size = 0.20)"
   ]
  },
  {
   "cell_type": "markdown",
   "metadata": {},
   "source": [
    "#### Model Generation - Linear Regression"
   ]
  },
  {
   "cell_type": "code",
   "execution_count": 17,
   "metadata": {},
   "outputs": [
    {
     "data": {
      "text/plain": [
       "LinearRegression(copy_X=True, fit_intercept=True, n_jobs=None,\n",
       "         normalize=False)"
      ]
     },
     "execution_count": 17,
     "metadata": {},
     "output_type": "execute_result"
    }
   ],
   "source": [
    "# Create and train the Linear Regression  Model\n",
    "lr = LinearRegression()\n",
    "# Train the model\n",
    "lr.fit(train_X, train_y)"
   ]
  },
  {
   "cell_type": "code",
   "execution_count": 18,
   "metadata": {},
   "outputs": [
    {
     "name": "stdout",
     "output_type": "stream",
     "text": [
      "lr confidence:  0.9813796509389869\n"
     ]
    }
   ],
   "source": [
    "## Checking Score for coefficient of determination R² of the prediction\n",
    "lr_confidence = lr.score(test_X, test_y)\n",
    "print(\"lr confidence: \", lr_confidence)"
   ]
  },
  {
   "cell_type": "markdown",
   "metadata": {},
   "source": [
    "Lasso and Ridge Regression"
   ]
  },
  {
   "cell_type": "code",
   "execution_count": 19,
   "metadata": {},
   "outputs": [
    {
     "name": "stdout",
     "output_type": "stream",
     "text": [
      "lasso regression confidence:  0.9802316700247841\n"
     ]
    }
   ],
   "source": [
    "# Lasso Regression.\n",
    "\n",
    "from sklearn.linear_model import Lasso\n",
    "\n",
    "lassoReg = Lasso(random_state=20)\n",
    "lassoReg.fit(train_X, train_y)\n",
    "lasso_confidence = lassoReg.score(test_X, test_y)\n",
    "print(\"lasso regression confidence: \", lasso_confidence)"
   ]
  },
  {
   "cell_type": "code",
   "execution_count": 20,
   "metadata": {},
   "outputs": [
    {
     "name": "stdout",
     "output_type": "stream",
     "text": [
      "Ridge regression confidence:  0.9813303688830585\n"
     ]
    }
   ],
   "source": [
    "# Ridge Regression.\n",
    "\n",
    "from sklearn.linear_model import Ridge\n",
    "\n",
    "ridgeReg = Ridge(random_state=21)\n",
    "ridgeReg.fit(train_X, train_y)\n",
    "ridge_confidence = ridgeReg.score(test_X, test_y)\n",
    "print(\"Ridge regression confidence: \", ridge_confidence)"
   ]
  },
  {
   "cell_type": "code",
   "execution_count": 21,
   "metadata": {},
   "outputs": [
    {
     "name": "stdout",
     "output_type": "stream",
     "text": [
      "knn regression confidence:  0.9829551904713568\n"
     ]
    }
   ],
   "source": [
    "## KNN\n",
    "from sklearn.neighbors import KNeighborsRegressor\n",
    "\n",
    "clfknn = KNeighborsRegressor(n_neighbors=3)\n",
    "clfknn.fit(train_X, train_y)\n",
    "knn_confidence = clfknn.score(test_X, test_y)\n",
    "print(\"knn regression confidence: \", knn_confidence)"
   ]
  },
  {
   "cell_type": "code",
   "execution_count": 22,
   "metadata": {},
   "outputs": [
    {
     "name": "stdout",
     "output_type": "stream",
     "text": [
      "The quadratic regression 2 confidence is :  0.9819706821576043\n"
     ]
    }
   ],
   "source": [
    "## Quadratic Regression\n",
    "from sklearn.preprocessing import PolynomialFeatures\n",
    "from sklearn.pipeline import make_pipeline\n",
    "\n",
    "clfpoly2 = make_pipeline(PolynomialFeatures(2), Ridge())\n",
    "clfpoly2.fit(train_X, train_y)\n",
    "clfpoly2_confidence = clfpoly2.score(test_X, test_y)\n",
    "print(\"The quadratic regression 2 confidence is : \", clfpoly2_confidence)"
   ]
  },
  {
   "cell_type": "markdown",
   "metadata": {},
   "source": [
    "#### Quadratic Regression gave highest score."
   ]
  },
  {
   "cell_type": "code",
   "execution_count": 23,
   "metadata": {},
   "outputs": [
    {
     "name": "stdout",
     "output_type": "stream",
     "text": [
      "[205.27258259 205.8327307  199.57177541 205.07305432 203.74641014\n",
      " 209.48891371 214.81380386 214.20944177 217.59122037 215.60254493\n",
      " 196.86522301 211.10729856 206.88731141 211.60974073 213.45452729\n",
      " 212.93338158 210.89469205 214.57557553 217.13398463 218.77781374]\n"
     ]
    }
   ],
   "source": [
    "#### Prediction..\n",
    "# Set Predict_X equal to the last 20 rows of the original data set from Adj Close column\n",
    "\n",
    "Predict_X = X[-num:]\n",
    "\n",
    "# Print Quadratic Regression model predictions for the next '20' days\n",
    "Quad_prediction = clfpoly2.predict(Predict_X)\n",
    "print(Quad_prediction)"
   ]
  },
  {
   "cell_type": "code",
   "execution_count": null,
   "metadata": {},
   "outputs": [],
   "source": []
  }
 ],
 "metadata": {
  "kernelspec": {
   "display_name": "Python 3",
   "language": "python",
   "name": "python3"
  },
  "language_info": {
   "codemirror_mode": {
    "name": "ipython",
    "version": 3
   },
   "file_extension": ".py",
   "mimetype": "text/x-python",
   "name": "python",
   "nbconvert_exporter": "python",
   "pygments_lexer": "ipython3",
   "version": "3.7.3"
  }
 },
 "nbformat": 4,
 "nbformat_minor": 2
}
