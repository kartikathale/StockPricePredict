{
 "cells": [
  {
   "cell_type": "code",
   "execution_count": null,
   "metadata": {},
   "outputs": [],
   "source": []
  },
  {
   "cell_type": "code",
   "execution_count": 6,
   "metadata": {},
   "outputs": [],
   "source": [
    "import pandas as pd\n",
    "import numpy as np\n",
    "import matplotlib.pyplot as plt\n",
    "import seaborn as sns\n",
    "% matplotlib inline\n",
    "from sklearn.ensemble import RandomForestRegressor, GradientBoostingRegressor\n",
    "from sklearn.model_selection import cross_val_score\n",
    "from sklearn.utils import shuffle\n",
    "from sklearn.metrics import mean_squared_error\n",
    "from sklearn.linear_model import LinearRegression\n",
    "#from sklearn.pipeline import make_pipeline\n",
    "#from sklearn.decomposition import PCA\n",
    "#from sklearn.preprocessing import StandardScaler"
   ]
  },
  {
   "cell_type": "code",
   "execution_count": 19,
   "metadata": {},
   "outputs": [],
   "source": [
    "# Read in files and print the information\n",
    "#train_df = pd.read_csv('AAPL.csv')\n",
    "import datetime\n",
    "import pandas_datareader.data as web\n",
    "from pandas import Series, DataFrame\n",
    "\n",
    "\n",
    "start = datetime.datetime(2010, 1, 1)\n",
    "end = datetime.datetime(2019, 9, 5)\n",
    "\n",
    "train_df = web.DataReader(\"AAPL\", 'yahoo', start, end)"
   ]
  },
  {
   "cell_type": "code",
   "execution_count": 21,
   "metadata": {},
   "outputs": [
    {
     "data": {
      "text/html": [
       "<div>\n",
       "<style scoped>\n",
       "    .dataframe tbody tr th:only-of-type {\n",
       "        vertical-align: middle;\n",
       "    }\n",
       "\n",
       "    .dataframe tbody tr th {\n",
       "        vertical-align: top;\n",
       "    }\n",
       "\n",
       "    .dataframe thead th {\n",
       "        text-align: right;\n",
       "    }\n",
       "</style>\n",
       "<table border=\"1\" class=\"dataframe\">\n",
       "  <thead>\n",
       "    <tr style=\"text-align: right;\">\n",
       "      <th></th>\n",
       "      <th>High</th>\n",
       "      <th>Low</th>\n",
       "      <th>Open</th>\n",
       "      <th>Close</th>\n",
       "      <th>Volume</th>\n",
       "      <th>Adj Close</th>\n",
       "    </tr>\n",
       "    <tr>\n",
       "      <th>Date</th>\n",
       "      <th></th>\n",
       "      <th></th>\n",
       "      <th></th>\n",
       "      <th></th>\n",
       "      <th></th>\n",
       "      <th></th>\n",
       "    </tr>\n",
       "  </thead>\n",
       "  <tbody>\n",
       "    <tr>\n",
       "      <th>2019-08-22</th>\n",
       "      <td>214.440002</td>\n",
       "      <td>210.750000</td>\n",
       "      <td>213.190002</td>\n",
       "      <td>212.460007</td>\n",
       "      <td>22253700.0</td>\n",
       "      <td>212.460007</td>\n",
       "    </tr>\n",
       "    <tr>\n",
       "      <th>2019-08-23</th>\n",
       "      <td>212.050003</td>\n",
       "      <td>201.000000</td>\n",
       "      <td>209.429993</td>\n",
       "      <td>202.639999</td>\n",
       "      <td>46818000.0</td>\n",
       "      <td>202.639999</td>\n",
       "    </tr>\n",
       "    <tr>\n",
       "      <th>2019-08-26</th>\n",
       "      <td>207.190002</td>\n",
       "      <td>205.059998</td>\n",
       "      <td>205.860001</td>\n",
       "      <td>206.490005</td>\n",
       "      <td>26043600.0</td>\n",
       "      <td>206.490005</td>\n",
       "    </tr>\n",
       "    <tr>\n",
       "      <th>2019-08-27</th>\n",
       "      <td>208.550003</td>\n",
       "      <td>203.529999</td>\n",
       "      <td>207.860001</td>\n",
       "      <td>204.160004</td>\n",
       "      <td>25873300.0</td>\n",
       "      <td>204.160004</td>\n",
       "    </tr>\n",
       "    <tr>\n",
       "      <th>2019-08-28</th>\n",
       "      <td>205.720001</td>\n",
       "      <td>203.320007</td>\n",
       "      <td>204.100006</td>\n",
       "      <td>205.529999</td>\n",
       "      <td>15938800.0</td>\n",
       "      <td>205.529999</td>\n",
       "    </tr>\n",
       "    <tr>\n",
       "      <th>2019-08-29</th>\n",
       "      <td>209.320007</td>\n",
       "      <td>206.660004</td>\n",
       "      <td>208.500000</td>\n",
       "      <td>209.009995</td>\n",
       "      <td>20990500.0</td>\n",
       "      <td>209.009995</td>\n",
       "    </tr>\n",
       "    <tr>\n",
       "      <th>2019-08-30</th>\n",
       "      <td>210.449997</td>\n",
       "      <td>207.199997</td>\n",
       "      <td>210.160004</td>\n",
       "      <td>208.740005</td>\n",
       "      <td>21143400.0</td>\n",
       "      <td>208.740005</td>\n",
       "    </tr>\n",
       "    <tr>\n",
       "      <th>2019-09-03</th>\n",
       "      <td>206.979996</td>\n",
       "      <td>204.220001</td>\n",
       "      <td>206.429993</td>\n",
       "      <td>205.699997</td>\n",
       "      <td>20023000.0</td>\n",
       "      <td>205.699997</td>\n",
       "    </tr>\n",
       "    <tr>\n",
       "      <th>2019-09-04</th>\n",
       "      <td>209.479996</td>\n",
       "      <td>207.320007</td>\n",
       "      <td>208.389999</td>\n",
       "      <td>209.190002</td>\n",
       "      <td>19188100.0</td>\n",
       "      <td>209.190002</td>\n",
       "    </tr>\n",
       "    <tr>\n",
       "      <th>2019-09-05</th>\n",
       "      <td>213.960007</td>\n",
       "      <td>211.610001</td>\n",
       "      <td>208.389999</td>\n",
       "      <td>211.610001</td>\n",
       "      <td>13806695.0</td>\n",
       "      <td>211.610001</td>\n",
       "    </tr>\n",
       "  </tbody>\n",
       "</table>\n",
       "</div>"
      ],
      "text/plain": [
       "                  High         Low        Open       Close      Volume  \\\n",
       "Date                                                                     \n",
       "2019-08-22  214.440002  210.750000  213.190002  212.460007  22253700.0   \n",
       "2019-08-23  212.050003  201.000000  209.429993  202.639999  46818000.0   \n",
       "2019-08-26  207.190002  205.059998  205.860001  206.490005  26043600.0   \n",
       "2019-08-27  208.550003  203.529999  207.860001  204.160004  25873300.0   \n",
       "2019-08-28  205.720001  203.320007  204.100006  205.529999  15938800.0   \n",
       "2019-08-29  209.320007  206.660004  208.500000  209.009995  20990500.0   \n",
       "2019-08-30  210.449997  207.199997  210.160004  208.740005  21143400.0   \n",
       "2019-09-03  206.979996  204.220001  206.429993  205.699997  20023000.0   \n",
       "2019-09-04  209.479996  207.320007  208.389999  209.190002  19188100.0   \n",
       "2019-09-05  213.960007  211.610001  208.389999  211.610001  13806695.0   \n",
       "\n",
       "             Adj Close  \n",
       "Date                    \n",
       "2019-08-22  212.460007  \n",
       "2019-08-23  202.639999  \n",
       "2019-08-26  206.490005  \n",
       "2019-08-27  204.160004  \n",
       "2019-08-28  205.529999  \n",
       "2019-08-29  209.009995  \n",
       "2019-08-30  208.740005  \n",
       "2019-09-03  205.699997  \n",
       "2019-09-04  209.190002  \n",
       "2019-09-05  211.610001  "
      ]
     },
     "execution_count": 21,
     "metadata": {},
     "output_type": "execute_result"
    }
   ],
   "source": [
    "train_df.tail(10)"
   ]
  },
  {
   "cell_type": "code",
   "execution_count": 23,
   "metadata": {},
   "outputs": [
    {
     "data": {
      "text/html": [
       "<div>\n",
       "<style scoped>\n",
       "    .dataframe tbody tr th:only-of-type {\n",
       "        vertical-align: middle;\n",
       "    }\n",
       "\n",
       "    .dataframe tbody tr th {\n",
       "        vertical-align: top;\n",
       "    }\n",
       "\n",
       "    .dataframe thead th {\n",
       "        text-align: right;\n",
       "    }\n",
       "</style>\n",
       "<table border=\"1\" class=\"dataframe\">\n",
       "  <thead>\n",
       "    <tr style=\"text-align: right;\">\n",
       "      <th></th>\n",
       "      <th>High</th>\n",
       "      <th>Low</th>\n",
       "      <th>Open</th>\n",
       "      <th>Close</th>\n",
       "      <th>Volume</th>\n",
       "      <th>Adj Close</th>\n",
       "    </tr>\n",
       "  </thead>\n",
       "  <tbody>\n",
       "    <tr>\n",
       "      <th>count</th>\n",
       "      <td>2435.000000</td>\n",
       "      <td>2435.000000</td>\n",
       "      <td>2435.000000</td>\n",
       "      <td>2435.000000</td>\n",
       "      <td>2.435000e+03</td>\n",
       "      <td>2435.000000</td>\n",
       "    </tr>\n",
       "    <tr>\n",
       "      <th>mean</th>\n",
       "      <td>106.658488</td>\n",
       "      <td>104.738891</td>\n",
       "      <td>105.713148</td>\n",
       "      <td>105.719227</td>\n",
       "      <td>7.650956e+07</td>\n",
       "      <td>99.536728</td>\n",
       "    </tr>\n",
       "    <tr>\n",
       "      <th>std</th>\n",
       "      <td>51.199167</td>\n",
       "      <td>50.340751</td>\n",
       "      <td>50.738785</td>\n",
       "      <td>50.772268</td>\n",
       "      <td>5.909032e+07</td>\n",
       "      <td>52.016907</td>\n",
       "    </tr>\n",
       "    <tr>\n",
       "      <th>min</th>\n",
       "      <td>28.000000</td>\n",
       "      <td>27.178572</td>\n",
       "      <td>27.481428</td>\n",
       "      <td>27.435715</td>\n",
       "      <td>1.136200e+07</td>\n",
       "      <td>23.943514</td>\n",
       "    </tr>\n",
       "    <tr>\n",
       "      <th>25%</th>\n",
       "      <td>64.584286</td>\n",
       "      <td>63.153572</td>\n",
       "      <td>63.693571</td>\n",
       "      <td>63.684286</td>\n",
       "      <td>3.232105e+07</td>\n",
       "      <td>56.502115</td>\n",
       "    </tr>\n",
       "    <tr>\n",
       "      <th>50%</th>\n",
       "      <td>98.230003</td>\n",
       "      <td>96.580002</td>\n",
       "      <td>97.389999</td>\n",
       "      <td>97.389999</td>\n",
       "      <td>5.747560e+07</td>\n",
       "      <td>90.719131</td>\n",
       "    </tr>\n",
       "    <tr>\n",
       "      <th>75%</th>\n",
       "      <td>142.860001</td>\n",
       "      <td>141.080002</td>\n",
       "      <td>142.010002</td>\n",
       "      <td>142.010002</td>\n",
       "      <td>1.043084e+08</td>\n",
       "      <td>136.692673</td>\n",
       "    </tr>\n",
       "    <tr>\n",
       "      <th>max</th>\n",
       "      <td>233.470001</td>\n",
       "      <td>229.779999</td>\n",
       "      <td>230.779999</td>\n",
       "      <td>232.070007</td>\n",
       "      <td>4.702495e+08</td>\n",
       "      <td>228.523819</td>\n",
       "    </tr>\n",
       "  </tbody>\n",
       "</table>\n",
       "</div>"
      ],
      "text/plain": [
       "              High          Low         Open        Close        Volume  \\\n",
       "count  2435.000000  2435.000000  2435.000000  2435.000000  2.435000e+03   \n",
       "mean    106.658488   104.738891   105.713148   105.719227  7.650956e+07   \n",
       "std      51.199167    50.340751    50.738785    50.772268  5.909032e+07   \n",
       "min      28.000000    27.178572    27.481428    27.435715  1.136200e+07   \n",
       "25%      64.584286    63.153572    63.693571    63.684286  3.232105e+07   \n",
       "50%      98.230003    96.580002    97.389999    97.389999  5.747560e+07   \n",
       "75%     142.860001   141.080002   142.010002   142.010002  1.043084e+08   \n",
       "max     233.470001   229.779999   230.779999   232.070007  4.702495e+08   \n",
       "\n",
       "         Adj Close  \n",
       "count  2435.000000  \n",
       "mean     99.536728  \n",
       "std      52.016907  \n",
       "min      23.943514  \n",
       "25%      56.502115  \n",
       "50%      90.719131  \n",
       "75%     136.692673  \n",
       "max     228.523819  "
      ]
     },
     "execution_count": 23,
     "metadata": {},
     "output_type": "execute_result"
    }
   ],
   "source": [
    "train_df.describe()"
   ]
  },
  {
   "cell_type": "code",
   "execution_count": 24,
   "metadata": {},
   "outputs": [
    {
     "name": "stdout",
     "output_type": "stream",
     "text": [
      "<class 'pandas.core.frame.DataFrame'>\n",
      "DatetimeIndex: 2435 entries, 2010-01-04 to 2019-09-05\n",
      "Data columns (total 6 columns):\n",
      "High         2435 non-null float64\n",
      "Low          2435 non-null float64\n",
      "Open         2435 non-null float64\n",
      "Close        2435 non-null float64\n",
      "Volume       2435 non-null float64\n",
      "Adj Close    2435 non-null float64\n",
      "dtypes: float64(6)\n",
      "memory usage: 133.2 KB\n"
     ]
    }
   ],
   "source": [
    "train_df.info()"
   ]
  },
  {
   "cell_type": "code",
   "execution_count": 10,
   "metadata": {},
   "outputs": [],
   "source": [
    "#train_feature_df['Adj Close'].plot(label='AAPL', figsize=(16,8), title='Adjusted Closing Price', grid=True)"
   ]
  },
  {
   "cell_type": "code",
   "execution_count": 31,
   "metadata": {},
   "outputs": [
    {
     "data": {
      "text/plain": [
       "<matplotlib.legend.Legend at 0x26741a868d0>"
      ]
     },
     "execution_count": 31,
     "metadata": {},
     "output_type": "execute_result"
    },
    {
     "data": {
      "image/png": "[encoded data removed]",
      "text/plain": [
       "<Figure size 1152x576 with 1 Axes>"
      ]
     },
     "metadata": {},
     "output_type": "display_data"
    }
   ],
   "source": [
    "#setting index as date\n",
    "#train_df['Date'] = pd.to_datetime(train_df.Date,format='%Y-%m-%d')\n",
    "#train_df.index = train_df['Date']\n",
    "\n",
    "#plot\n",
    "plt.figure(figsize=(16,8))\n",
    "plt.plot(train_df['Adj Close'], label='Close Price')\n",
    "plt.xlabel('Date')  \n",
    "plt.ylabel('Price')  \n",
    "plt.title('Stock Price history')\n",
    "plt.legend()"
   ]
  },
  {
   "cell_type": "code",
   "execution_count": 32,
   "metadata": {},
   "outputs": [
    {
     "data": {
      "text/plain": [
       "0"
      ]
     },
     "execution_count": 32,
     "metadata": {},
     "output_type": "execute_result"
    }
   ],
   "source": [
    "train_df.duplicated().sum()"
   ]
  },
  {
   "cell_type": "code",
   "execution_count": 75,
   "metadata": {},
   "outputs": [
    {
     "data": {
      "text/plain": [
       "High         0\n",
       "Low          0\n",
       "Open         0\n",
       "Close        0\n",
       "Volume       0\n",
       "Adj Close    0\n",
       "dtype: int64"
      ]
     },
     "execution_count": 75,
     "metadata": {},
     "output_type": "execute_result"
    }
   ],
   "source": [
    "#train_df.isnull().sum()\n",
    "train_df.isna().sum()"
   ]
  },
  {
   "cell_type": "code",
   "execution_count": 34,
   "metadata": {},
   "outputs": [
    {
     "name": "stderr",
     "output_type": "stream",
     "text": [
      "C:\\Users\\Kartik Athale\\Anaconda3\\lib\\site-packages\\matplotlib\\axes\\_axes.py:6462: UserWarning: The 'normed' kwarg is deprecated, and has been replaced by the 'density' kwarg.\n",
      "  warnings.warn(\"The 'normed' kwarg is deprecated, and has been \"\n"
     ]
    },
    {
     "data": {
      "image/png": "[encoded data removed]",
      "text/plain": [
       "<Figure size 1008x432 with 2 Axes>"
      ]
     },
     "metadata": {},
     "output_type": "display_data"
    }
   ],
   "source": [
    "plt.figure(figsize=(14,6))\n",
    "plt.subplot(1,2,1)\n",
    "sns.boxplot(train_df['Adj Close'])\n",
    "plt.subplot(1,2,2)\n",
    "sns.distplot(train_df['Adj Close'], bins = 20)\n",
    "plt.show()"
   ]
  },
  {
   "cell_type": "code",
   "execution_count": null,
   "metadata": {},
   "outputs": [],
   "source": []
  },
  {
   "cell_type": "code",
   "execution_count": null,
   "metadata": {},
   "outputs": [],
   "source": []
  },
  {
   "cell_type": "code",
   "execution_count": null,
   "metadata": {},
   "outputs": [],
   "source": []
  },
  {
   "cell_type": "code",
   "execution_count": 71,
   "metadata": {},
   "outputs": [
    {
     "data": {
      "text/plain": [
       "LinearRegression(copy_X=True, fit_intercept=True, n_jobs=1, normalize=False)"
      ]
     },
     "execution_count": 71,
     "metadata": {},
     "output_type": "execute_result"
    }
   ],
   "source": [
    "#split into train and validation\n",
    "\n",
    "train = train_df[:2300]\n",
    "valid = train_df[2300:]\n",
    "\n",
    "train_X = train.drop('Adj Close', axis=1)\n",
    "train_y = train['Close']\n",
    "valid_X = valid.drop('Close', axis=1)\n",
    "valid_y = valid['Close']\n",
    "\n",
    "#train_X = preprocessing.scale(train_X)\n",
    "\n",
    "\n",
    "\n",
    "#implement linear regression\n",
    "from sklearn.linear_model import LinearRegression\n",
    "model = LinearRegression()\n",
    "model.fit(train_X,train_y)"
   ]
  },
  {
   "cell_type": "code",
   "execution_count": null,
   "metadata": {},
   "outputs": [],
   "source": []
  },
  {
   "cell_type": "code",
   "execution_count": 60,
   "metadata": {},
   "outputs": [
    {
     "data": {
      "text/plain": [
       "1383088903.6937532"
      ]
     },
     "execution_count": 60,
     "metadata": {},
     "output_type": "execute_result"
    }
   ],
   "source": [
    "#make predictions and find the rmse\n",
    "preds = model.predict(valid_X)\n",
    "rms=np.sqrt(np.mean(np.power((np.array(valid_y)-np.array(preds)),2)))\n",
    "rms"
   ]
  },
  {
   "cell_type": "code",
   "execution_count": 73,
   "metadata": {},
   "outputs": [],
   "source": [
    "confidencereg = model.score(valid_X, valid_y)"
   ]
  },
  {
   "cell_type": "code",
   "execution_count": 74,
   "metadata": {},
   "outputs": [
    {
     "data": {
      "text/plain": [
       "-6975786113296.631"
      ]
     },
     "execution_count": 74,
     "metadata": {},
     "output_type": "execute_result"
    }
   ],
   "source": [
    "confidencereg"
   ]
  },
  {
   "cell_type": "code",
   "execution_count": 68,
   "metadata": {},
   "outputs": [],
   "source": [
    "#from sklearn import preprocessing\n",
    "names = valid_X.columns\n",
    "valid_X = preprocessing.scale(valid_X)"
   ]
  },
  {
   "cell_type": "code",
   "execution_count": 69,
   "metadata": {},
   "outputs": [],
   "source": [
    "\n",
    "valid_X = pd.DataFrame(valid_X, columns=names)"
   ]
  },
  {
   "cell_type": "code",
   "execution_count": 70,
   "metadata": {},
   "outputs": [
    {
     "data": {
      "text/html": [
       "<div>\n",
       "<style scoped>\n",
       "    .dataframe tbody tr th:only-of-type {\n",
       "        vertical-align: middle;\n",
       "    }\n",
       "\n",
       "    .dataframe tbody tr th {\n",
       "        vertical-align: top;\n",
       "    }\n",
       "\n",
       "    .dataframe thead th {\n",
       "        text-align: right;\n",
       "    }\n",
       "</style>\n",
       "<table border=\"1\" class=\"dataframe\">\n",
       "  <thead>\n",
       "    <tr style=\"text-align: right;\">\n",
       "      <th></th>\n",
       "      <th>High</th>\n",
       "      <th>Low</th>\n",
       "      <th>Open</th>\n",
       "      <th>Volume</th>\n",
       "      <th>Adj Close</th>\n",
       "    </tr>\n",
       "  </thead>\n",
       "  <tbody>\n",
       "    <tr>\n",
       "      <th>0</th>\n",
       "      <td>-1.934180</td>\n",
       "      <td>-1.815653</td>\n",
       "      <td>-1.927738</td>\n",
       "      <td>-0.545120</td>\n",
       "      <td>-1.974919</td>\n",
       "    </tr>\n",
       "    <tr>\n",
       "      <th>1</th>\n",
       "      <td>-1.984271</td>\n",
       "      <td>-1.885188</td>\n",
       "      <td>-1.967670</td>\n",
       "      <td>-1.009051</td>\n",
       "      <td>-1.966122</td>\n",
       "    </tr>\n",
       "    <tr>\n",
       "      <th>2</th>\n",
       "      <td>-2.010635</td>\n",
       "      <td>-1.924413</td>\n",
       "      <td>-2.012038</td>\n",
       "      <td>0.030737</td>\n",
       "      <td>-1.918623</td>\n",
       "    </tr>\n",
       "    <tr>\n",
       "      <th>3</th>\n",
       "      <td>-2.018544</td>\n",
       "      <td>-1.907475</td>\n",
       "      <td>-1.913540</td>\n",
       "      <td>0.067440</td>\n",
       "      <td>-2.069921</td>\n",
       "    </tr>\n",
       "    <tr>\n",
       "      <th>4</th>\n",
       "      <td>-1.997454</td>\n",
       "      <td>-1.910149</td>\n",
       "      <td>-1.917090</td>\n",
       "      <td>-0.157532</td>\n",
       "      <td>-1.909826</td>\n",
       "    </tr>\n",
       "  </tbody>\n",
       "</table>\n",
       "</div>"
      ],
      "text/plain": [
       "       High       Low      Open    Volume  Adj Close\n",
       "0 -1.934180 -1.815653 -1.927738 -0.545120  -1.974919\n",
       "1 -1.984271 -1.885188 -1.967670 -1.009051  -1.966122\n",
       "2 -2.010635 -1.924413 -2.012038  0.030737  -1.918623\n",
       "3 -2.018544 -1.907475 -1.913540  0.067440  -2.069921\n",
       "4 -1.997454 -1.910149 -1.917090 -0.157532  -1.909826"
      ]
     },
     "execution_count": 70,
     "metadata": {},
     "output_type": "execute_result"
    }
   ],
   "source": [
    "valid_X.head()"
   ]
  },
  {
   "cell_type": "code",
   "execution_count": null,
   "metadata": {},
   "outputs": [],
   "source": []
  }
 ],
 "metadata": {
  "kernelspec": {
   "display_name": "Python 3",
   "language": "python",
   "name": "python3"
  },
  "language_info": {
   "codemirror_mode": {
    "name": "ipython",
    "version": 3
   },
   "file_extension": ".py",
   "mimetype": "text/x-python",
   "name": "python",
   "nbconvert_exporter": "python",
   "pygments_lexer": "ipython3",
   "version": "3.6.5"
  }
 },
 "nbformat": 4,
 "nbformat_minor": 2
}
